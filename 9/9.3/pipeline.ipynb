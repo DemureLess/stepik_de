{
 "cells": [
  {
   "cell_type": "code",
   "execution_count": 14,
   "metadata": {},
   "outputs": [],
   "source": [
    "import os\n",
    "from tempfile import NamedTemporaryFile\n",
    "from dotenv import load_dotenv\n",
    "\n",
    "import pandas as pd\n",
    "from IPython.display import HTML, display\n",
    "\n",
    "\n",
    "from crawler.collector import collect_links\n",
    "from parsers.books_tocrape import parse_item, is_category\n",
    "from utils.s3 import AsyncObjectStorage"
   ]
  },
  {
   "cell_type": "code",
   "execution_count": 2,
   "metadata": {},
   "outputs": [],
   "source": [
    "load_dotenv()\n",
    "storage = AsyncObjectStorage(\n",
    "    key_id=os.getenv(\"AWS_ACCESS_KEY_ID\"),\n",
    "    secret=os.getenv(\"AWS_SECRET_ACCESS_KEY\"),\n",
    "    endpoint=os.getenv(\"AWS_ENDPOINT\"),\n",
    "    bucket=os.getenv(\"AWS_BUCKET\"),\n",
    ")\n",
    "start_url = \"https://books.toscrape.com/\"\n",
    "# base_domain = urlsplit(start_url).netloc"
   ]
  },
  {
   "cell_type": "markdown",
   "metadata": {},
   "source": [
    "## 1) Сбор URL"
   ]
  },
  {
   "cell_type": "code",
   "execution_count": 3,
   "metadata": {},
   "outputs": [
    {
     "data": {
      "text/plain": [
       "75"
      ]
     },
     "execution_count": 3,
     "metadata": {},
     "output_type": "execute_result"
    }
   ],
   "source": [
    "all_urls = collect_links(start_url, max_pages=3)\n",
    "len(all_urls)"
   ]
  },
  {
   "cell_type": "markdown",
   "metadata": {},
   "source": [
    "## 2) Фильтрация: оставляем карточки товара"
   ]
  },
  {
   "cell_type": "code",
   "execution_count": 4,
   "id": "0004b26a",
   "metadata": {},
   "outputs": [
    {
     "name": "stdout",
     "output_type": "stream",
     "text": [
      "было собрано 75 url\n",
      "из них карточек товаров 22\n"
     ]
    }
   ],
   "source": [
    "cat_prefix = \"https://books.toscrape.com/catalogue/category/\"\n",
    "\n",
    "# фильтруем все что попало под маску категорий\n",
    "catgory_list = set(filter(lambda url: is_category(cat_prefix, url), all_urls))\n",
    "\n",
    "item_urls = list(all_urls.difference(catgory_list, {start_url}))\n",
    "\n",
    "print(\"было собрано\", len(all_urls), \"url\")\n",
    "print(\"из них карточек товаров\", len(item_urls))"
   ]
  },
  {
   "cell_type": "code",
   "execution_count": null,
   "metadata": {},
   "outputs": [],
   "source": []
  },
  {
   "cell_type": "markdown",
   "metadata": {},
   "source": [
    "## 3) Парсинг значений по карточкам"
   ]
  },
  {
   "cell_type": "code",
   "execution_count": 5,
   "metadata": {},
   "outputs": [],
   "source": [
    "fields = [\n",
    "    \"product_name\",\n",
    "    \"price_amount\",\n",
    "    \"price_currency\",\n",
    "    \"breadcrumbs\",\n",
    "    \"instock_text\",\n",
    "    \"instock_qty\",\n",
    "]\n",
    "results = []\n",
    "for url in item_urls:\n",
    "    data = parse_item(url, fields=fields)\n",
    "    if data:\n",
    "        results.append(data)\n"
   ]
  },
  {
   "cell_type": "markdown",
   "metadata": {},
   "source": [
    "## 4) DataFrame и выгрузка в S3"
   ]
  },
  {
   "cell_type": "code",
   "execution_count": 11,
   "id": "b5786bda",
   "metadata": {},
   "outputs": [
    {
     "name": "stdout",
     "output_type": "stream",
     "text": [
      "Получено (22, 7)\n",
      "Осталось после очистки (20, 7)\n"
     ]
    },
    {
     "data": {
      "text/html": [
       "<div>\n",
       "<style scoped>\n",
       "    .dataframe tbody tr th:only-of-type {\n",
       "        vertical-align: middle;\n",
       "    }\n",
       "\n",
       "    .dataframe tbody tr th {\n",
       "        vertical-align: top;\n",
       "    }\n",
       "\n",
       "    .dataframe thead th {\n",
       "        text-align: right;\n",
       "    }\n",
       "</style>\n",
       "<table border=\"1\" class=\"dataframe\">\n",
       "  <thead>\n",
       "    <tr style=\"text-align: right;\">\n",
       "      <th></th>\n",
       "      <th>product_name</th>\n",
       "      <th>price_amount</th>\n",
       "      <th>price_currency</th>\n",
       "      <th>breadcrumbs</th>\n",
       "      <th>instock_text</th>\n",
       "      <th>instock_qty</th>\n",
       "      <th>url</th>\n",
       "    </tr>\n",
       "  </thead>\n",
       "  <tbody>\n",
       "    <tr>\n",
       "      <th>0</th>\n",
       "      <td>Soumission</td>\n",
       "      <td>50.10</td>\n",
       "      <td>£</td>\n",
       "      <td>Home &gt; Books &gt; Fiction</td>\n",
       "      <td>In stock (20 available)</td>\n",
       "      <td>20.0</td>\n",
       "      <td>https://books.toscrape.com/catalogue/soumissio...</td>\n",
       "    </tr>\n",
       "    <tr>\n",
       "      <th>1</th>\n",
       "      <td>Rip it Up and Start Again</td>\n",
       "      <td>35.02</td>\n",
       "      <td>£</td>\n",
       "      <td>Home &gt; Books &gt; Music</td>\n",
       "      <td>In stock (19 available)</td>\n",
       "      <td>19.0</td>\n",
       "      <td>https://books.toscrape.com/catalogue/rip-it-up...</td>\n",
       "    </tr>\n",
       "    <tr>\n",
       "      <th>2</th>\n",
       "      <td>Set Me Free</td>\n",
       "      <td>17.46</td>\n",
       "      <td>£</td>\n",
       "      <td>Home &gt; Books &gt; Young Adult</td>\n",
       "      <td>In stock (19 available)</td>\n",
       "      <td>19.0</td>\n",
       "      <td>https://books.toscrape.com/catalogue/set-me-fr...</td>\n",
       "    </tr>\n",
       "    <tr>\n",
       "      <th>3</th>\n",
       "      <td>Libertarianism for Beginners</td>\n",
       "      <td>51.33</td>\n",
       "      <td>£</td>\n",
       "      <td>Home &gt; Books &gt; Politics</td>\n",
       "      <td>In stock (19 available)</td>\n",
       "      <td>19.0</td>\n",
       "      <td>https://books.toscrape.com/catalogue/libertari...</td>\n",
       "    </tr>\n",
       "    <tr>\n",
       "      <th>4</th>\n",
       "      <td>Tipping the Velvet</td>\n",
       "      <td>53.74</td>\n",
       "      <td>£</td>\n",
       "      <td>Home &gt; Books &gt; Historical Fiction</td>\n",
       "      <td>In stock (20 available)</td>\n",
       "      <td>20.0</td>\n",
       "      <td>https://books.toscrape.com/catalogue/tipping-t...</td>\n",
       "    </tr>\n",
       "  </tbody>\n",
       "</table>\n",
       "</div>"
      ],
      "text/plain": [
       "                   product_name  price_amount price_currency  \\\n",
       "0                    Soumission         50.10              £   \n",
       "1     Rip it Up and Start Again         35.02              £   \n",
       "2                   Set Me Free         17.46              £   \n",
       "3  Libertarianism for Beginners         51.33              £   \n",
       "4            Tipping the Velvet         53.74              £   \n",
       "\n",
       "                         breadcrumbs             instock_text  instock_qty  \\\n",
       "0             Home > Books > Fiction  In stock (20 available)         20.0   \n",
       "1               Home > Books > Music  In stock (19 available)         19.0   \n",
       "2         Home > Books > Young Adult  In stock (19 available)         19.0   \n",
       "3            Home > Books > Politics  In stock (19 available)         19.0   \n",
       "4  Home > Books > Historical Fiction  In stock (20 available)         20.0   \n",
       "\n",
       "                                                 url  \n",
       "0  https://books.toscrape.com/catalogue/soumissio...  \n",
       "1  https://books.toscrape.com/catalogue/rip-it-up...  \n",
       "2  https://books.toscrape.com/catalogue/set-me-fr...  \n",
       "3  https://books.toscrape.com/catalogue/libertari...  \n",
       "4  https://books.toscrape.com/catalogue/tipping-t...  "
      ]
     },
     "execution_count": 11,
     "metadata": {},
     "output_type": "execute_result"
    }
   ],
   "source": [
    "df = pd.DataFrame(results)\n",
    "print(\"Получено\", df.shape)\n",
    "\n",
    "df = df.dropna()\n",
    "print(\"Осталось после очистки\", df.shape)\n",
    "\n",
    "df.head()"
   ]
  },
  {
   "cell_type": "code",
   "execution_count": 18,
   "metadata": {},
   "outputs": [
    {
     "name": "stdout",
     "output_type": "stream",
     "text": [
      "Uploaded to s3: parser_csv/tmp3coj2f64.csv\n"
     ]
    },
    {
     "data": {
      "text/html": [
       "<a href=\"https://storage.yandexcloud.net/stepik-de/parser_csv/parser_csv/tmp3coj2f64.csv\" target=\"_blank\">Скачать файл</a>"
      ],
      "text/plain": [
       "<IPython.core.display.HTML object>"
      ]
     },
     "metadata": {},
     "output_type": "display_data"
    }
   ],
   "source": [
    "if df.empty:\n",
    "    print(\"DataFrame пуст — ничего не выгружаю в S3\")\n",
    "    s3_key = None\n",
    "else:\n",
    "    with NamedTemporaryFile(delete=False, suffix=\".csv\") as tmp:\n",
    "        df.to_csv(tmp.name, index=False)\n",
    "        s3_key = f\"parser_csv/{os.path.basename(tmp.name)}\"\n",
    "        await storage.send_file(tmp.name, s3_key)\n",
    "    print(\"Uploaded to s3:\", s3_key)\n",
    "url_link = f'<a href=\"https://storage.yandexcloud.net/stepik-de/parser_csv/{s3_key}\" target=\"_blank\">Скачать файл</a>'\n",
    "display(HTML(url_link))"
   ]
  },
  {
   "cell_type": "code",
   "execution_count": null,
   "id": "12712427",
   "metadata": {},
   "outputs": [],
   "source": [
    "https://storage.yandexcloud.net/stepik-de/parser_csv/tmp3coj2f64.csv"
   ]
  }
 ],
 "metadata": {
  "kernelspec": {
   "display_name": "af_prod_env",
   "language": "python",
   "name": "python3"
  },
  "language_info": {
   "codemirror_mode": {
    "name": "ipython",
    "version": 3
   },
   "file_extension": ".py",
   "mimetype": "text/x-python",
   "name": "python",
   "nbconvert_exporter": "python",
   "pygments_lexer": "ipython3",
   "version": "3.8.16"
  }
 },
 "nbformat": 4,
 "nbformat_minor": 5
}
