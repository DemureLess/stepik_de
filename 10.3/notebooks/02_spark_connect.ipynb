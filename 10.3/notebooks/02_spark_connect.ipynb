{
 "cells": [
  {
   "cell_type": "markdown",
   "metadata": {},
   "source": [
    "# Подключение к Spark из Python (pyspark)\n",
    "\n",
    "Подключаемся к мастеру Spark в docker-compose.\n",
    "- master: `spark://spark:7077`\n",
    "- версия образа: 3.4.2 (bitnami)\n",
    "\n"
   ]
  },
  {
   "cell_type": "code",
   "execution_count": 1,
   "metadata": {},
   "outputs": [
    {
     "name": "stderr",
     "output_type": "stream",
     "text": [
      "Setting default log level to \"WARN\".\n",
      "To adjust logging level use sc.setLogLevel(newLevel). For SparkR, use setLogLevel(newLevel).\n",
      "25/09/30 13:39:59 WARN NativeCodeLoader: Unable to load native-hadoop library for your platform... using builtin-java classes where applicable\n",
      "                                                                                \r"
     ]
    },
    {
     "name": "stdout",
     "output_type": "stream",
     "text": [
      "+---+---+\n",
      "| id|val|\n",
      "+---+---+\n",
      "|  1|  a|\n",
      "|  2|  b|\n",
      "|  3|  c|\n",
      "+---+---+\n",
      "\n"
     ]
    }
   ],
   "source": [
    "from pyspark.sql import SparkSession\n",
    "\n",
    "SPARK_MASTER = \"spark://spark:7077\"\n",
    "\n",
    "spark = (\n",
    "    SparkSession.builder.appName(\"notebook-spark-connect\")\n",
    "    .master(SPARK_MASTER)\n",
    "    .getOrCreate()\n",
    ")\n",
    "\n",
    "spark\n",
    "\n",
    "# Пример: создадим простой DataFrame и покажем строки\n",
    "sample = spark.createDataFrame([(1, \"a\"), (2, \"b\"), (3, \"c\")], [\"id\", \"val\"])\n",
    "sample.show()\n",
    "\n",
    "\n",
    "spark.stop()\n",
    "\n",
    "\n"
   ]
  },
  {
   "cell_type": "code",
   "execution_count": 2,
   "metadata": {},
   "outputs": [
    {
     "name": "stdout",
     "output_type": "stream",
     "text": [
      "+------------------+\n",
      "|namespace         |\n",
      "+------------------+\n",
      "|INFORMATION_SCHEMA|\n",
      "|default           |\n",
      "|dwh               |\n",
      "|information_schema|\n",
      "|system            |\n",
      "+------------------+\n",
      "\n"
     ]
    },
    {
     "name": "stderr",
     "output_type": "stream",
     "text": [
      "                                                                                \r"
     ]
    },
    {
     "name": "stdout",
     "output_type": "stream",
     "text": [
      "+---------+---------------------+-----------+\n",
      "|namespace|tableName            |isTemporary|\n",
      "+---------+---------------------+-----------+\n",
      "|default  |customers_data       |false      |\n",
      "|default  |customers_mv         |false      |\n",
      "|default  |kafka_customers_queue|false      |\n",
      "|default  |kafka_products_queue |false      |\n",
      "|default  |kafka_purchases_queue|false      |\n",
      "|default  |kafka_stores_queue   |false      |\n",
      "|default  |products_data        |false      |\n",
      "|default  |products_mv          |false      |\n",
      "|default  |purchases_data       |false      |\n",
      "|default  |purchases_mv         |false      |\n",
      "|default  |stores_data          |false      |\n",
      "|default  |stores_mv            |false      |\n",
      "+---------+---------------------+-----------+\n",
      "\n"
     ]
    },
    {
     "name": "stderr",
     "output_type": "stream",
     "text": [
      "                                                                                \r"
     ]
    }
   ],
   "source": [
    "# Обзор Spark: базы/таблицы в встроенном каталоге при работе с кликом\n",
    "\n",
    "\n",
    "from pyspark.sql import SparkSession\n",
    "spark = (\n",
    "    SparkSession.builder\n",
    "    .appName(\"notebook-spark-clickhouse-catalog\")\n",
    "    .master(\"spark://spark:7077\")\n",
    "    .config(\"spark.sql.catalog.clickhouse\", \"com.clickhouse.spark.ClickHouseCatalog\")\n",
    "    .config(\"spark.sql.catalog.clickhouse.host\", \"clickhouse\")\n",
    "    .config(\"spark.sql.catalog.clickhouse.port\", \"8123\")\n",
    "    .config(\"spark.sql.catalog.clickhouse.user\", \"user\")\n",
    "    .config(\"spark.sql.catalog.clickhouse.password\", \"strongpassword\")\n",
    "    .config(\"spark.sql.catalog.clickhouse.database\", \"default\")\n",
    "    .config(\"spark.sql.catalog.clickhouse.protocol\", \"http\")\n",
    "    .getOrCreate()\n",
    ")\n",
    "spark.sql(\"SHOW DATABASES IN clickhouse\").show(truncate=False)\n",
    "spark.sql(\"SHOW TABLES IN clickhouse.default\").show(truncate=False)\n",
    "\n"
   ]
  }
 ],
 "metadata": {
  "kernelspec": {
   "display_name": "Python 3 (ipykernel)",
   "language": "python",
   "name": "python3"
  },
  "language_info": {
   "codemirror_mode": {
    "name": "ipython",
    "version": 3
   },
   "file_extension": ".py",
   "mimetype": "text/x-python",
   "name": "python",
   "nbconvert_exporter": "python",
   "pygments_lexer": "ipython3",
   "version": "3.11.6"
  }
 },
 "nbformat": 4,
 "nbformat_minor": 4
}
