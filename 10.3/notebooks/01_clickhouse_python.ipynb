{
 "cells": [
  {
   "cell_type": "markdown",
   "metadata": {},
   "source": [
    "# Подключение к ClickHouse из Python\n",
    "\n",
    "В этом ноутбуке показан пример соединения с ClickHouse с использованием `clickhouse-driver` и простой выборки.\n",
    "\n",
    "Параметры подключения берутся из docker-compose:\n",
    "- host: `clickhouse`\n",
    "- port: `9000` (native)\n",
    "- user: `user`\n",
    "- password: `strongpassword`\n",
    "- database: `default`\n"
   ]
  },
  {
   "cell_type": "code",
   "execution_count": 1,
   "metadata": {},
   "outputs": [
    {
     "name": "stdout",
     "output_type": "stream",
     "text": [
      "Rows in purchases_data: 200\n",
      "('68dbd41507c344dfef2df1c9', '{\"_id\": \"68dbd41507c344dfef2df1c9\", \"store_id\": \"store-007\", \"store_name\": \"Большая Пикча — Магазин на алл. Докучаева\", \"store_network\": \"Большая Пикча\", \"store_type_description\": \"Супермаркет более 200 кв.м. Входит в сеть из 30 магазинов.\", \"type\": \"offline\", \"categories\": [\"Зерновые и хлебобулочные изделия\", \"Мясо, рыба, яйца и бобовые\", \"Молочные продукты\", \"Фрукты и ягоды\", \"Овощи и зелень\"], \"manager\": {\"name\": \"Касьян Теймуразович Кондратьев\", \"phone\": \"3facd087796488144e14d77f15d94e80\", \"email\": \"3553cef047f624a5ef39e34c22e0c486\"}, \"location\": {\"country\": \"Россия\", \"city\": \"д. Томари\", \"street\": \"ул. Мусы Джалиля\", \"house\": \"1\", \"postal_code\": \"610633\", \"coordinates\": {\"latitude\": -50.6281965, \"longitude\": -7.078073}}, \"opening_hours\": {\"mon_fri\": \"09:00-21:00\", \"sat\": \"10:00-20:00\", \"sun\": \"10:00-18:00\"}, \"accepts_online_orders\": true, \"delivery_available\": true, \"warehouse_connected\": false, \"last_inventory_date\": \"2025-09-30\"}', datetime.datetime(2025, 9, 30, 13, 0, 10))\n"
     ]
    }
   ],
   "source": [
    "!pip -q install clickhouse-driver\n",
    "\n",
    "from clickhouse_driver import Client\n",
    "\n",
    "CLICKHOUSE_HOST = \"clickhouse\"\n",
    "CLICKHOUSE_PORT = 9000\n",
    "CLICKHOUSE_USER = \"user\"\n",
    "CLICKHOUSE_PASSWORD = \"strongpassword\"\n",
    "CLICKHOUSE_DB = \"default\"\n",
    "\n",
    "client = Client(\n",
    "    host=CLICKHOUSE_HOST,\n",
    "    port=CLICKHOUSE_PORT,\n",
    "    user=CLICKHOUSE_USER,\n",
    "    password=CLICKHOUSE_PASSWORD,\n",
    "    database=CLICKHOUSE_DB,\n",
    ")\n",
    "\n",
    "# Пробный запрос\n",
    "count = client.execute(\"SELECT count(*) FROM default.purchases_data\")[0][0]\n",
    "print(f\"Rows in purchases_data: {count}\")\n",
    "\n",
    "rows = client.execute(\"SELECT * FROM default.stores_data LIMIT 1\")\n",
    "for row in rows:\n",
    "    print(row)\n"
   ]
  },
  {
   "cell_type": "code",
   "execution_count": null,
   "metadata": {},
   "outputs": [],
   "source": []
  },
  {
   "cell_type": "code",
   "execution_count": 2,
   "metadata": {},
   "outputs": [
    {
     "name": "stdout",
     "output_type": "stream",
     "text": [
      "Databases:\n",
      "- INFORMATION_SCHEMA\n",
      "- default\n",
      "- dwh\n",
      "- information_schema\n",
      "- system\n",
      "\n",
      "Tables in default:\n",
      "- customers_data\n",
      "- customers_mv\n",
      "- kafka_customers_queue\n",
      "- kafka_products_queue\n",
      "- kafka_purchases_queue\n",
      "- kafka_stores_queue\n",
      "- products_data\n",
      "- products_mv\n",
      "- purchases_data\n",
      "- purchases_mv\n",
      "- stores_data\n",
      "- stores_mv\n"
     ]
    }
   ],
   "source": [
    "# Обзор баз и таблиц в ClickHouse\n",
    "\n",
    "# Список баз данных\n",
    "rows = client.execute(\"SHOW DATABASES\")\n",
    "print(\"Databases:\")\n",
    "for (db,) in rows:\n",
    "    print(\"-\", db)\n",
    "\n",
    "# Таблицы в default\n",
    "rows = client.execute(\"SHOW TABLES FROM default\")\n",
    "print(\"\\nTables in default:\")\n",
    "for (tbl,) in rows:\n",
    "    print(\"-\", tbl)\n"
   ]
  }
 ],
 "metadata": {
  "kernelspec": {
   "display_name": "Python 3 (ipykernel)",
   "language": "python",
   "name": "python3"
  },
  "language_info": {
   "codemirror_mode": {
    "name": "ipython",
    "version": 3
   },
   "file_extension": ".py",
   "mimetype": "text/x-python",
   "name": "python",
   "nbconvert_exporter": "python",
   "pygments_lexer": "ipython3",
   "version": "3.11.6"
  }
 },
 "nbformat": 4,
 "nbformat_minor": 4
}
