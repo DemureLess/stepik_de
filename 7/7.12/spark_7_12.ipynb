{
 "cells": [
  {
   "cell_type": "markdown",
   "id": "09ae5eaa-8e61-442a-b957-0906d1d78212",
   "metadata": {
    "tags": []
   },
   "source": [
    "# Импорты - и спарк сессия"
   ]
  },
  {
   "cell_type": "code",
   "execution_count": 16,
   "id": "2c4c3085-fd21-42dc-9764-b4034afbfeeb",
   "metadata": {
    "execution": {
     "iopub.execute_input": "2025-07-24T08:27:52.056885Z",
     "iopub.status.busy": "2025-07-24T08:27:52.056489Z",
     "iopub.status.idle": "2025-07-24T08:27:52.097472Z",
     "shell.execute_reply": "2025-07-24T08:27:52.096730Z",
     "shell.execute_reply.started": "2025-07-24T08:27:52.056859Z"
    },
    "tags": []
   },
   "outputs": [],
   "source": [
    "\n",
    "import sys\n",
    "import re\n",
    "import requests\n",
    "import io\n",
    "\n",
    "from urllib.parse import urlencode\n",
    "\n",
    "import pandas as pd\n",
    "\n",
    "\n",
    "sys.path.append('../') \n",
    "from my_spark import get_context\n",
    "\n",
    "from pyspark.sql import functions as F\n",
    "from pyspark.sql import types as T \n",
    "from pyspark.sql import Window\n",
    "\n",
    "\n",
    "\n",
    "spark = get_context()\n"
   ]
  },
  {
   "cell_type": "code",
   "execution_count": 2,
   "id": "544c6e7c-1c6c-463e-9d22-9a953e193ff9",
   "metadata": {
    "execution": {
     "iopub.execute_input": "2025-07-24T08:25:56.786753Z",
     "iopub.status.busy": "2025-07-24T08:25:56.786206Z",
     "iopub.status.idle": "2025-07-24T08:25:56.796096Z",
     "shell.execute_reply": "2025-07-24T08:25:56.795599Z",
     "shell.execute_reply.started": "2025-07-24T08:25:56.786724Z"
    },
    "tags": []
   },
   "outputs": [
    {
     "data": {
      "text/html": [
       "\n",
       "            <div>\n",
       "                <p><b>SparkSession - hive</b></p>\n",
       "                \n",
       "        <div>\n",
       "            <p><b>SparkContext</b></p>\n",
       "\n",
       "            <p><a href=\"http://10.58.139.14:4043\">Spark UI</a></p>\n",
       "\n",
       "            <dl>\n",
       "              <dt>Version</dt>\n",
       "                <dd><code>v3.2.2</code></dd>\n",
       "              <dt>Master</dt>\n",
       "                <dd><code>yarn</code></dd>\n",
       "              <dt>AppName</dt>\n",
       "                <dd><code><ipython-input-1-16dc831c5dbc></code></dd>\n",
       "            </dl>\n",
       "        </div>\n",
       "        \n",
       "            </div>\n",
       "        "
      ],
      "text/plain": [
       "<pyspark.sql.session.SparkSession at 0x7efc4ea53ca0>"
      ]
     },
     "execution_count": 2,
     "metadata": {},
     "output_type": "execute_result"
    }
   ],
   "source": [
    "spark"
   ]
  },
  {
   "cell_type": "markdown",
   "id": "889aa3cb-ebe0-4a28-87da-a1b8131051d0",
   "metadata": {
    "tags": []
   },
   "source": [
    "## 1. Загрузка и предварительная обработка данных\n",
    " "
   ]
  },
  {
   "cell_type": "markdown",
   "id": "0df35d63-c009-4fcb-b31f-f55957798a11",
   "metadata": {
    "tags": []
   },
   "source": [
    "### 1.1. Загрузка и вывод схемы:"
   ]
  },
  {
   "cell_type": "code",
   "execution_count": 3,
   "id": "d6a6ced2-f7a3-4c41-91a4-f593c3550f6c",
   "metadata": {
    "execution": {
     "iopub.execute_input": "2025-07-24T08:25:59.204965Z",
     "iopub.status.busy": "2025-07-24T08:25:59.204701Z",
     "iopub.status.idle": "2025-07-24T08:26:05.680841Z",
     "shell.execute_reply": "2025-07-24T08:26:05.680293Z",
     "shell.execute_reply.started": "2025-07-24T08:25:59.204941Z"
    },
    "tags": []
   },
   "outputs": [
    {
     "name": "stdout",
     "output_type": "stream",
     "text": [
      "root\n",
      " |-- Category: string (nullable = true)\n",
      " |-- Customer ID: string (nullable = true)\n",
      " |-- Discount Applied: boolean (nullable = true)\n",
      " |-- Item: string (nullable = true)\n",
      " |-- Location: string (nullable = true)\n",
      " |-- Payment Method: string (nullable = true)\n",
      " |-- Price Per Unit: double (nullable = true)\n",
      " |-- Quantity: double (nullable = true)\n",
      " |-- Total Spent: double (nullable = true)\n",
      " |-- Transaction Date: string (nullable = true)\n",
      " |-- Transaction ID: string (nullable = true)\n",
      "\n",
      "+-------------+-----------+----------------+------------+--------+--------------+--------------+--------+-----------+----------------+--------------+\n",
      "|     Category|Customer ID|Discount Applied|        Item|Location|Payment Method|Price Per Unit|Quantity|Total Spent|Transaction Date|Transaction ID|\n",
      "+-------------+-----------+----------------+------------+--------+--------------+--------------+--------+-----------+----------------+--------------+\n",
      "|   Patisserie|    CUST_09|            true| Item_10_PAT|  Online|Digital Wallet|          18.5|    10.0|      185.0|      2024-04-08|   TXN_6867343|\n",
      "|Milk Products|    CUST_22|            true|Item_17_MILK|  Online|Digital Wallet|          29.0|     9.0|      261.0|      2023-07-23|   TXN_3731986|\n",
      "|     Butchers|    CUST_02|           false| Item_12_BUT|  Online|   Credit Card|          21.5|     2.0|       43.0|      2022-10-05|   TXN_9303719|\n",
      "|    Beverages|    CUST_06|            null| Item_16_BEV|  Online|   Credit Card|          27.5|     9.0|      247.5|      2022-05-07|   TXN_9458126|\n",
      "|         Food|    CUST_05|           false| Item_6_FOOD|  Online|Digital Wallet|          12.5|     7.0|       87.5|      2022-10-02|   TXN_4575373|\n",
      "+-------------+-----------+----------------+------------+--------+--------------+--------------+--------+-----------+----------------+--------------+\n",
      "only showing top 5 rows\n",
      "\n"
     ]
    }
   ],
   "source": [
    "#Загрузите файл retail_store_sales.csv.  Выведите первые 5 строк загруженного DataFrame и его схему\n",
    "\n",
    "base_url = 'https://cloud-api.yandex.net/v1/disk/public/resources/download?'\n",
    "public_key = 'https://disk.yandex.ru/d/5yhVs9f0xe4w-Q'  \n",
    "\n",
    "final_url = base_url + urlencode(dict(public_key=public_key))\n",
    "response = requests.get(final_url)\n",
    "download_url = response.json()['href']\n",
    "\n",
    "download_response = requests.get(download_url)\n",
    "\n",
    "# Читаем в pandas DataFrame из памяти чтобы не сохранять на диск\n",
    "pdf = pd.read_csv(io.BytesIO(download_response.content))\n",
    "\n",
    "# Преобразуем pandas DataFrame в список словарей.Можно в спарк сразу из пандас, но так не на всех версиях панадас работает\n",
    "records = pdf.to_dict(orient='records')\n",
    "\n",
    "# Создаем DataFrame из RDD \n",
    "rdd = spark.sparkContext.parallelize(records)\n",
    "spark_df = spark.createDataFrame(rdd)\n",
    "\n",
    "spark_df.printSchema()\n",
    "spark_df.show(5)"
   ]
  },
  {
   "cell_type": "markdown",
   "id": "f303265e-3d7f-4685-851d-017b178c8782",
   "metadata": {
    "tags": []
   },
   "source": [
    "### 1.2. Очистка названий столбцов"
   ]
  },
  {
   "cell_type": "markdown",
   "id": "49a7c9d2-6aef-4c54-ab01-2744992ff90d",
   "metadata": {},
   "source": [
    "Преобразуйте названия всех столбцов к единому регистру - snake_case.  Выведите обновленную схему DataFrame  или названия столбцов, чтобы убедиться в изменении названий."
   ]
  },
  {
   "cell_type": "code",
   "execution_count": 6,
   "id": "011a6e62-37b3-4772-89ba-cf1855d03959",
   "metadata": {
    "execution": {
     "iopub.execute_input": "2025-07-24T08:26:30.723046Z",
     "iopub.status.busy": "2025-07-24T08:26:30.722749Z",
     "iopub.status.idle": "2025-07-24T08:26:30.727089Z",
     "shell.execute_reply": "2025-07-24T08:26:30.726593Z",
     "shell.execute_reply.started": "2025-07-24T08:26:30.723018Z"
    },
    "tags": []
   },
   "outputs": [],
   "source": [
    "# сделаем функцию чтобы переиспользовать\n",
    "def clean_and_snake_case_names(columns: list) -> list:\n",
    "    \"\"\"\n",
    "    Очищает список названий колонок:\n",
    "    - все знаки препинания заменяет на пробел\n",
    "    - убирает повторяющиеся пробелы\n",
    "    - пробелы заменяет на _\n",
    "    - приводит к нижнему регистру\n",
    "    \"\"\"\n",
    "    cleaned = []\n",
    "    for col in columns:\n",
    "        col = re.sub(r'[^\\w\\s]', ' ', col)      # знаки препинания на пробел\n",
    "        col = col.strip()                       # убрать пробелы по краям\n",
    "        col = re.sub(r'\\s+', ' ', col)          # несколько пробелов на один\n",
    "        col = col.replace(' ', '_')             # пробелы на _\n",
    "        col = col.lower()                       # в нижний регистр\n",
    "        cleaned.append(col)\n",
    "    return cleaned"
   ]
  },
  {
   "cell_type": "code",
   "execution_count": 8,
   "id": "61a0ee71-0a6a-467b-b59b-fdea86dd185d",
   "metadata": {
    "execution": {
     "iopub.execute_input": "2025-07-24T08:26:44.695657Z",
     "iopub.status.busy": "2025-07-24T08:26:44.695382Z",
     "iopub.status.idle": "2025-07-24T08:26:44.717611Z",
     "shell.execute_reply": "2025-07-24T08:26:44.717056Z",
     "shell.execute_reply.started": "2025-07-24T08:26:44.695634Z"
    },
    "tags": []
   },
   "outputs": [
    {
     "data": {
      "text/plain": [
       "['category',\n",
       " 'customer_id',\n",
       " 'discount_applied',\n",
       " 'item',\n",
       " 'location',\n",
       " 'payment_method',\n",
       " 'price_per_unit',\n",
       " 'quantity',\n",
       " 'total_spent',\n",
       " 'transaction_date',\n",
       " 'transaction_id']"
      ]
     },
     "metadata": {},
     "output_type": "display_data"
    },
    {
     "name": "stdout",
     "output_type": "stream",
     "text": [
      "root\n",
      " |-- category: string (nullable = true)\n",
      " |-- customer_id: string (nullable = true)\n",
      " |-- discount_applied: boolean (nullable = true)\n",
      " |-- item: string (nullable = true)\n",
      " |-- location: string (nullable = true)\n",
      " |-- payment_method: string (nullable = true)\n",
      " |-- price_per_unit: double (nullable = true)\n",
      " |-- quantity: double (nullable = true)\n",
      " |-- total_spent: double (nullable = true)\n",
      " |-- transaction_date: string (nullable = true)\n",
      " |-- transaction_id: string (nullable = true)\n",
      "\n"
     ]
    }
   ],
   "source": [
    "#Чистим названия колонок и приводим к snake_case\n",
    "spark_df = spark_df.toDF(*clean_and_snake_case_names(spark_df.columns))\n",
    "\n",
    "display(spark_df.columns)\n",
    "spark_df.printSchema()"
   ]
  },
  {
   "cell_type": "markdown",
   "id": "74fc3e85-41b0-4e7b-aae5-202cab983360",
   "metadata": {
    "tags": []
   },
   "source": [
    "### 1.3. Преобразование типов данных:"
   ]
  },
  {
   "cell_type": "code",
   "execution_count": 9,
   "id": "c1bcf458-516c-40af-9993-b4c6e54a0754",
   "metadata": {
    "execution": {
     "iopub.execute_input": "2025-07-24T08:26:49.421672Z",
     "iopub.status.busy": "2025-07-24T08:26:49.421404Z",
     "iopub.status.idle": "2025-07-24T08:26:49.658768Z",
     "shell.execute_reply": "2025-07-24T08:26:49.658215Z",
     "shell.execute_reply.started": "2025-07-24T08:26:49.421648Z"
    },
    "tags": []
   },
   "outputs": [
    {
     "name": "stdout",
     "output_type": "stream",
     "text": [
      "root\n",
      " |-- category: string (nullable = true)\n",
      " |-- customer_id: string (nullable = true)\n",
      " |-- discount_applied: boolean (nullable = true)\n",
      " |-- item: string (nullable = true)\n",
      " |-- location: string (nullable = true)\n",
      " |-- payment_method: string (nullable = true)\n",
      " |-- price_per_unit: decimal(10,2) (nullable = true)\n",
      " |-- quantity: integer (nullable = true)\n",
      " |-- total_spent: decimal(10,2) (nullable = true)\n",
      " |-- transaction_date: string (nullable = true)\n",
      " |-- transaction_id: string (nullable = true)\n",
      "\n"
     ]
    }
   ],
   "source": [
    "# Приводим типы, для денег - беру Decimal, для количества - целое\n",
    "spark_df = (\n",
    "    spark_df\n",
    "    .withColumn('price_per_unit', F.col('price_per_unit').cast(T.DecimalType(10, 2)))\n",
    "    .withColumn('total_spent', F.col('total_spent').cast(T.DecimalType(10, 2)))\n",
    "    .withColumn('quantity', F.col('quantity').cast(T.IntegerType()))\n",
    ")\n",
    "# в item Nan залетел как текст , чистим NaN -> Null\n",
    "spark_df = (\n",
    "    spark_df\n",
    "    .withColumn(\n",
    "        'item',\n",
    "        F.when(F.col('item') == 'NaN', None).otherwise(F.col('item'))\n",
    "    )\n",
    ")\n",
    "spark_df.printSchema()\n"
   ]
  },
  {
   "cell_type": "code",
   "execution_count": 19,
   "id": "53f30807-64c5-4dee-b85d-c342a2e07ada",
   "metadata": {
    "execution": {
     "iopub.execute_input": "2025-07-24T08:29:06.924653Z",
     "iopub.status.busy": "2025-07-24T08:29:06.924331Z",
     "iopub.status.idle": "2025-07-24T08:29:06.961344Z",
     "shell.execute_reply": "2025-07-24T08:29:06.960731Z",
     "shell.execute_reply.started": "2025-07-24T08:29:06.924623Z"
    },
    "tags": []
   },
   "outputs": [
    {
     "data": {
      "text/plain": [
       "DataFrame[category: string, customer_id: string, discount_applied: boolean, item: string, location: string, payment_method: string, price_per_unit: decimal(10,2), quantity: int, total_spent: decimal(10,2), transaction_date: string, transaction_id: string]"
      ]
     },
     "execution_count": 19,
     "metadata": {},
     "output_type": "execute_result"
    }
   ],
   "source": [
    "#cохраним его поближе\n",
    "spark_df.persist()"
   ]
  },
  {
   "cell_type": "markdown",
   "id": "88443b57-ae30-4ec0-abc5-470d5e4c405f",
   "metadata": {},
   "source": [
    "## 2. Очистка и валидация данных\n"
   ]
  },
  {
   "cell_type": "code",
   "execution_count": 10,
   "id": "5e1e3413-add9-4be0-a0f3-87ffd5b9680f",
   "metadata": {
    "execution": {
     "iopub.execute_input": "2025-07-24T08:26:55.107961Z",
     "iopub.status.busy": "2025-07-24T08:26:55.107703Z",
     "iopub.status.idle": "2025-07-24T08:27:00.263188Z",
     "shell.execute_reply": "2025-07-24T08:27:00.262495Z",
     "shell.execute_reply.started": "2025-07-24T08:26:55.107940Z"
    },
    "tags": []
   },
   "outputs": [
    {
     "name": "stdout",
     "output_type": "stream",
     "text": [
      "+-----------------+-------------+--------------+--------------+--------------------+\n",
      "|null_category_row|null_item_row|null_price_row|0_quantity_row|null_total_spent_row|\n",
      "+-----------------+-------------+--------------+--------------+--------------------+\n",
      "|                0|         1213|           609|           604|                 604|\n",
      "+-----------------+-------------+--------------+--------------+--------------------+\n",
      "\n"
     ]
    }
   ],
   "source": [
    "# Зафиксируем нашу стартовую позицию\n",
    "(\n",
    "     spark_df\n",
    "    .agg(\n",
    "        F.sum(\n",
    "            F.when(\n",
    "                F.col('category').isNull(), F.lit(1)\n",
    "            ).otherwise(F.lit(0))\n",
    "        ).alias('null_category_row'),\n",
    "        F.sum(\n",
    "            F.when(\n",
    "                F.col('item').isNull(), F.lit(1)\n",
    "            ).otherwise(F.lit(0))\n",
    "        ).alias('null_item_row'),\n",
    "        F.sum(\n",
    "            F.when(\n",
    "                F.col('price_per_unit').isNull(), F.lit(1)\n",
    "            ).otherwise(F.lit(0))\n",
    "        ).alias('null_price_row'),\n",
    "        F.sum(\n",
    "            F.when(\n",
    "                F.col('quantity') == 0, F.lit(1)\n",
    "            ).otherwise(F.lit(0))\n",
    "        ).alias('0_quantity_row'),# проверяем на 0 так как после преобразования null кастанулся в 0\n",
    "        F.sum(\n",
    "            F.when(\n",
    "                F.col('total_spent').isNull(), F.lit(1)\n",
    "            ).otherwise(F.lit(0))\n",
    "        ).alias('null_total_spent_row')\n",
    "    )\n",
    ").show(10)"
   ]
  },
  {
   "cell_type": "markdown",
   "id": "7ad4369b-cf0c-4955-80aa-ba975f3e6ecd",
   "metadata": {
    "execution": {
     "iopub.execute_input": "2025-07-23T11:49:13.437952Z",
     "iopub.status.busy": "2025-07-23T11:49:13.437684Z",
     "iopub.status.idle": "2025-07-23T11:49:13.441301Z",
     "shell.execute_reply": "2025-07-23T11:49:13.440681Z",
     "shell.execute_reply.started": "2025-07-23T11:49:13.437931Z"
    },
    "tags": []
   },
   "source": [
    "Гипотеза - если цена товара одинакова внутри категории - то это один и тот же товар .\n",
    "По этой причине предлагаю  изменить предложенную очередность заданий и востановить цену товара пункт задания 2.3 \n"
   ]
  },
  {
   "cell_type": "markdown",
   "id": "4e9927b8-42f4-41b7-b2b1-47748834cb8a",
   "metadata": {},
   "source": [
    "### 2.3. Заполнение отсутствующих Quantity и price Rer Unit"
   ]
  },
  {
   "cell_type": "code",
   "execution_count": 11,
   "id": "a4199aa7-0156-4f63-94eb-dfa095a64197",
   "metadata": {
    "execution": {
     "iopub.execute_input": "2025-07-24T08:27:07.511968Z",
     "iopub.status.busy": "2025-07-24T08:27:07.511700Z",
     "iopub.status.idle": "2025-07-24T08:27:07.957391Z",
     "shell.execute_reply": "2025-07-24T08:27:07.956605Z",
     "shell.execute_reply.started": "2025-07-24T08:27:07.511941Z"
    },
    "tags": []
   },
   "outputs": [
    {
     "name": "stdout",
     "output_type": "stream",
     "text": [
      "+-------------+-----------+----------------+------------+--------+--------------+--------------+--------+-----------+----------------+--------------+\n",
      "|     category|customer_id|discount_applied|        item|location|payment_method|price_per_unit|quantity|total_spent|transaction_date|transaction_id|\n",
      "+-------------+-----------+----------------+------------+--------+--------------+--------------+--------+-----------+----------------+--------------+\n",
      "|   Patisserie|    CUST_09|            true| Item_10_PAT|  Online|Digital Wallet|         18.50|      10|     185.00|      2024-04-08|   TXN_6867343|\n",
      "|Milk Products|    CUST_22|            true|Item_17_MILK|  Online|Digital Wallet|         29.00|       9|     261.00|      2023-07-23|   TXN_3731986|\n",
      "|     Butchers|    CUST_02|           false| Item_12_BUT|  Online|   Credit Card|         21.50|       2|      43.00|      2022-10-05|   TXN_9303719|\n",
      "+-------------+-----------+----------------+------------+--------+--------------+--------------+--------+-----------+----------------+--------------+\n",
      "only showing top 3 rows\n",
      "\n"
     ]
    }
   ],
   "source": [
    "# расчитываем price_per_unit_recovery как total_spent / quantity\n",
    "# Востанавливаем  price_per_unit выбирая непустое значение  из двух цен\n",
    "# После востановления цепны Обновляем quantity total_spent / price_per_unit\n",
    "prep_dim_item = (\n",
    "    spark_df\n",
    "    .withColumn(\n",
    "        'price_per_unit_recovery',\n",
    "        (F.col('total_spent') / F.col('quantity')).cast(T.DecimalType(10, 2))\n",
    "    )\n",
    "\n",
    "    .withColumn('price_per_unit', F.coalesce('price_per_unit', 'price_per_unit_recovery'))\n",
    "    .drop('price_per_unit_recovery')\n",
    "    .withColumn(\n",
    "        'quantity',\n",
    "        (F.col('total_spent') / F.col('price_per_unit')).cast(T.IntegerType())\n",
    "    )\n",
    ")\n",
    "\n",
    "prep_dim_item.show(3)"
   ]
  },
  {
   "cell_type": "markdown",
   "id": "b724573c-7ac0-4440-9724-a95b17a63317",
   "metadata": {},
   "source": [
    "### 2.1. Восстановление отсутствующих item"
   ]
  },
  {
   "cell_type": "markdown",
   "id": "b0528a3c-d365-4b09-a7c4-7ff0bb0b62f9",
   "metadata": {},
   "source": [
    "Проверяем гипотзеу: если цена товара одинакова внутри категории - то это один и тот же товар .\n",
    "\n",
    "\n",
    "для начала нам нужно проверить - товары внутри категории\n",
    "разметим товары внутри категоии с одинаковой ценой одинаковым псевдо айдишником\n",
    "и посчитаем сколько товаров в категории получиться, по условию их не должно быть строго 25\n",
    "\n",
    "Для нашей задачи подойдет как rank так и dense_rank, я воспользуюсь последним\n",
    "дадим одинаковые номера тем товарам у которых одинаковая цена в пределах категории"
   ]
  },
  {
   "cell_type": "code",
   "execution_count": 17,
   "id": "39f67668-cd15-4afa-927f-70220dd91aca",
   "metadata": {
    "execution": {
     "iopub.execute_input": "2025-07-24T08:28:00.719043Z",
     "iopub.status.busy": "2025-07-24T08:28:00.718726Z",
     "iopub.status.idle": "2025-07-24T08:28:21.230176Z",
     "shell.execute_reply": "2025-07-24T08:28:21.229305Z",
     "shell.execute_reply.started": "2025-07-24T08:28:00.719015Z"
    },
    "tags": []
   },
   "outputs": [
    {
     "name": "stdout",
     "output_type": "stream",
     "text": [
      "+---------+----------+--------------+----+\n",
      "| category|      item|price_per_unit|rank|\n",
      "+---------+----------+--------------+----+\n",
      "|Beverages|Item_1_BEV|          5.00|   1|\n",
      "|Beverages|      null|          5.00|   1|\n",
      "|Beverages|Item_2_BEV|          6.50|   2|\n",
      "|Beverages|      null|          6.50|   2|\n",
      "|Beverages|      null|          8.00|   3|\n",
      "|Beverages|Item_3_BEV|          8.00|   3|\n",
      "|Beverages|      null|          9.50|   4|\n",
      "|Beverages|Item_4_BEV|          9.50|   4|\n",
      "|Beverages|Item_5_BEV|         11.00|   5|\n",
      "|Beverages|Item_6_BEV|         12.50|   6|\n",
      "+---------+----------+--------------+----+\n",
      "only showing top 10 rows\n",
      "\n"
     ]
    }
   ],
   "source": [
    "window_spec = Window.partitionBy('category').orderBy('price_per_unit')\n",
    "\n",
    "df_ranked = (\n",
    "    prep_dim_item\n",
    "    .select('category', 'item', 'price_per_unit')\n",
    "    .distinct()\n",
    "    .withColumn(\n",
    "        'rank',\n",
    "        F.dense_rank().over(window_spec)\n",
    "    )\n",
    "\n",
    "    .orderBy('category', 'price_per_unit')\n",
    ")\n",
    "\n",
    "df_ranked.show(10)"
   ]
  },
  {
   "cell_type": "code",
   "execution_count": 18,
   "id": "20edcddf-63b0-4ca2-b61c-1c0a2e830979",
   "metadata": {
    "execution": {
     "iopub.execute_input": "2025-07-24T08:28:23.847482Z",
     "iopub.status.busy": "2025-07-24T08:28:23.847186Z",
     "iopub.status.idle": "2025-07-24T08:28:31.039390Z",
     "shell.execute_reply": "2025-07-24T08:28:31.038556Z",
     "shell.execute_reply.started": "2025-07-24T08:28:23.847457Z"
    },
    "tags": []
   },
   "outputs": [
    {
     "name": "stdout",
     "output_type": "stream",
     "text": [
      "+----------------------------------+---------------+\n",
      "|category                          |cnt_psevdo_item|\n",
      "+----------------------------------+---------------+\n",
      "|Beverages                         |25             |\n",
      "|Butchers                          |25             |\n",
      "|Computers and electric accessories|25             |\n",
      "|Electric household essentials     |25             |\n",
      "|Food                              |25             |\n",
      "|Furniture                         |25             |\n",
      "|Milk Products                     |25             |\n",
      "|Patisserie                        |25             |\n",
      "+----------------------------------+---------------+\n",
      "\n"
     ]
    }
   ],
   "source": [
    "# проверяем кол-во товаров\n",
    "(\n",
    "     df_ranked\n",
    "     .groupBy('category')\n",
    "    .agg(\n",
    "        F.countDistinct('rank').alias('cnt_psevdo_item'),\n",
    "           \n",
    "    )\n",
    "\n",
    ").show(10,False)"
   ]
  },
  {
   "cell_type": "code",
   "execution_count": 20,
   "id": "aaeffba6-5bdb-4c3b-b850-51a8f62df6e6",
   "metadata": {
    "execution": {
     "iopub.execute_input": "2025-07-24T08:29:42.871787Z",
     "iopub.status.busy": "2025-07-24T08:29:42.871461Z",
     "iopub.status.idle": "2025-07-24T08:30:08.459209Z",
     "shell.execute_reply": "2025-07-24T08:30:08.458165Z",
     "shell.execute_reply.started": "2025-07-24T08:29:42.871744Z"
    },
    "tags": []
   },
   "outputs": [
    {
     "name": "stdout",
     "output_type": "stream",
     "text": [
      "+----------------------------------+------------------+\n",
      "|category                          |cnt_price_per_unit|\n",
      "+----------------------------------+------------------+\n",
      "|Food                              |25                |\n",
      "|Furniture                         |25                |\n",
      "|Electric household essentials     |25                |\n",
      "|Milk Products                     |25                |\n",
      "|Computers and electric accessories|25                |\n",
      "|Patisserie                        |25                |\n",
      "|Beverages                         |25                |\n",
      "|Butchers                          |25                |\n",
      "+----------------------------------+------------------+\n",
      "\n"
     ]
    }
   ],
   "source": [
    "# проверяем кол-во товаров v2 \n",
    "#в целом можно не выпендирваться с оконками и проверить кол-во цен в категории\n",
    "(\n",
    "     df_ranked\n",
    "     .groupBy('category')\n",
    "    .agg(\n",
    "        F.countDistinct('price_per_unit').alias('cnt_price_per_unit'),\n",
    "    )\n",
    "\n",
    ").show(10,False)"
   ]
  },
  {
   "cell_type": "code",
   "execution_count": 21,
   "id": "dfd2545e-91cf-4802-a2cf-de25fdfc75fb",
   "metadata": {
    "execution": {
     "iopub.execute_input": "2025-07-24T08:30:10.440287Z",
     "iopub.status.busy": "2025-07-24T08:30:10.439972Z",
     "iopub.status.idle": "2025-07-24T08:30:12.987998Z",
     "shell.execute_reply": "2025-07-24T08:30:12.987106Z",
     "shell.execute_reply.started": "2025-07-24T08:30:10.440260Z"
    },
    "tags": []
   },
   "outputs": [
    {
     "name": "stdout",
     "output_type": "stream",
     "text": [
      "+--------------------+----------+--------------+\n",
      "|            category|      item|price_per_unit|\n",
      "+--------------------+----------+--------------+\n",
      "|            Butchers|Item_1_BUT|          5.00|\n",
      "|Computers and ele...|Item_1_CEA|          5.00|\n",
      "|           Beverages|Item_1_BEV|          5.00|\n",
      "|           Furniture|Item_1_FUR|          5.00|\n",
      "|Electric househol...|Item_1_EHE|          5.00|\n",
      "+--------------------+----------+--------------+\n",
      "only showing top 5 rows\n",
      "\n"
     ]
    }
   ],
   "source": [
    "#создаем справочник товаров, для каждой цены может быт заполнен item а может быть Null,\n",
    "# воспользуемся группирвокой и агрегатной функцией. тем самым она вытащит нам действительно значение для цены\n",
    "dim_item = (\n",
    "    prep_dim_item\n",
    "    .groupBy('category', 'price_per_unit')\n",
    "    .agg(\n",
    "        F.max('item').alias('item')\n",
    "    )\n",
    "    .select('category', 'item', 'price_per_unit')\n",
    "    .orderBy('price_per_unit')\n",
    ")\n",
    "dim_item.show(5)"
   ]
  },
  {
   "cell_type": "code",
   "execution_count": 22,
   "id": "781112cb-4bbe-48e5-b5b6-de85388972d1",
   "metadata": {
    "execution": {
     "iopub.execute_input": "2025-07-24T08:30:18.175027Z",
     "iopub.status.busy": "2025-07-24T08:30:18.174716Z",
     "iopub.status.idle": "2025-07-24T08:30:20.076406Z",
     "shell.execute_reply": "2025-07-24T08:30:20.075538Z",
     "shell.execute_reply.started": "2025-07-24T08:30:18.175003Z"
    },
    "tags": []
   },
   "outputs": [
    {
     "name": "stdout",
     "output_type": "stream",
     "text": [
      "+-------------+--------------+\n",
      "|null_item_row|null_price_row|\n",
      "+-------------+--------------+\n",
      "|            0|             0|\n",
      "+-------------+--------------+\n",
      "\n"
     ]
    }
   ],
   "source": [
    "# проверим справочник кол-во пустых строк в справочнике\n",
    "\n",
    "(\n",
    "     dim_item\n",
    "    .agg(\n",
    "        F.sum(\n",
    "            F.when(\n",
    "                F.col('item').isNull(), F.lit(1)\n",
    "            ).otherwise(F.lit(0))\n",
    "        ).alias('null_item_row'),\n",
    "        F.sum(\n",
    "            F.when(\n",
    "                F.col('price_per_unit').isNull(), F.lit(1)\n",
    "            ).otherwise(F.lit(0))\n",
    "        ).alias('null_price_row')\n",
    "    )\n",
    ").show(10)\n"
   ]
  },
  {
   "cell_type": "code",
   "execution_count": null,
   "id": "91b43048-41f0-41fd-8c74-3da5ec980dfa",
   "metadata": {},
   "outputs": [],
   "source": []
  },
  {
   "cell_type": "code",
   "execution_count": 23,
   "id": "ccfc9759-dfba-4073-952b-c8d467031a07",
   "metadata": {
    "execution": {
     "iopub.execute_input": "2025-07-24T08:30:24.430332Z",
     "iopub.status.busy": "2025-07-24T08:30:24.430019Z",
     "iopub.status.idle": "2025-07-24T08:30:24.705579Z",
     "shell.execute_reply": "2025-07-24T08:30:24.704788Z",
     "shell.execute_reply.started": "2025-07-24T08:30:24.430305Z"
    },
    "tags": []
   },
   "outputs": [
    {
     "name": "stdout",
     "output_type": "stream",
     "text": [
      "+-------------+-----------+----------------+------------+--------+--------------+--------------+--------+-----------+----------------+--------------+\n",
      "|     category|customer_id|discount_applied|        item|location|payment_method|price_per_unit|quantity|total_spent|transaction_date|transaction_id|\n",
      "+-------------+-----------+----------------+------------+--------+--------------+--------------+--------+-----------+----------------+--------------+\n",
      "|   Patisserie|    CUST_09|            true| Item_10_PAT|  Online|Digital Wallet|         18.50|      10|     185.00|      2024-04-08|   TXN_6867343|\n",
      "|Milk Products|    CUST_22|            true|Item_17_MILK|  Online|Digital Wallet|         29.00|       9|     261.00|      2023-07-23|   TXN_3731986|\n",
      "|     Butchers|    CUST_02|           false| Item_12_BUT|  Online|   Credit Card|         21.50|       2|      43.00|      2022-10-05|   TXN_9303719|\n",
      "+-------------+-----------+----------------+------------+--------+--------------+--------------+--------+-----------+----------------+--------------+\n",
      "only showing top 3 rows\n",
      "\n"
     ]
    }
   ],
   "source": [
    "# джойним по цене и кагории для обогащения поля item.\n",
    "df_with_item = (\n",
    "    prep_dim_item.alias('prep')\n",
    "    .join(\n",
    "        dim_item.alias('dim'),\n",
    "        on=['category','price_per_unit'],\n",
    "        how='left'\n",
    "    )\n",
    "    .select(\n",
    "        'prep.category',\n",
    "        'prep.customer_id',\n",
    "        'prep.discount_applied',\n",
    "        F.coalesce('prep.item','dim.item').alias('item'),\n",
    "        'prep.location',\n",
    "        'prep.price_per_unit',\n",
    "        'prep.quantity',\n",
    "        'prep.total_spent',\n",
    "        'prep.transaction_date',\n",
    "        'prep.transaction_id', \n",
    "        'prep.payment_method'\n",
    "    )\n",
    "    \n",
    ")\n",
    "prep_dim_item.show(3)"
   ]
  },
  {
   "cell_type": "markdown",
   "id": "5ed9b20c-e76f-42ce-97cd-fff3a8d4e38d",
   "metadata": {},
   "source": [
    "### 2.2. Восстановление Total Spent:"
   ]
  },
  {
   "cell_type": "markdown",
   "id": "bd2efb39-daad-476b-b85f-c85e2b5f8fd2",
   "metadata": {},
   "source": [
    "Найдите все транзакции, с пропусками в общей сумме и обновите ее, пересчитав её как quantity * price_per_unit для всех записей."
   ]
  },
  {
   "cell_type": "code",
   "execution_count": null,
   "id": "f5dc0a37-f3f9-42b7-853f-43386767bd22",
   "metadata": {},
   "outputs": [],
   "source": [
    "#Забегая вперед - тут мы по сути проверям соглосованность Total Spent =  quantity * price_per_unit , так как часть данных не востановима"
   ]
  },
  {
   "cell_type": "code",
   "execution_count": 24,
   "id": "be116e4c-0fb1-49ba-adbd-2d5ad58add7a",
   "metadata": {
    "execution": {
     "iopub.execute_input": "2025-07-24T08:30:30.808488Z",
     "iopub.status.busy": "2025-07-24T08:30:30.808177Z",
     "iopub.status.idle": "2025-07-24T08:30:30.831499Z",
     "shell.execute_reply": "2025-07-24T08:30:30.830063Z",
     "shell.execute_reply.started": "2025-07-24T08:30:30.808460Z"
    },
    "tags": []
   },
   "outputs": [],
   "source": [
    "result_df = (\n",
    "    df_with_item\n",
    "    .withColumn('total_spent', F.col('quantity') * F.col('price_per_unit'))    \n",
    "    \n",
    ")"
   ]
  },
  {
   "cell_type": "code",
   "execution_count": 25,
   "id": "67c8ee80-264e-4190-911d-1f74674eb151",
   "metadata": {
    "execution": {
     "iopub.execute_input": "2025-07-24T08:30:32.823746Z",
     "iopub.status.busy": "2025-07-24T08:30:32.823437Z",
     "iopub.status.idle": "2025-07-24T08:30:36.217543Z",
     "shell.execute_reply": "2025-07-24T08:30:36.216682Z",
     "shell.execute_reply.started": "2025-07-24T08:30:32.823720Z"
    },
    "tags": []
   },
   "outputs": [
    {
     "name": "stdout",
     "output_type": "stream",
     "text": [
      "+-----------------+-------------+--------------+--------------+--------------------+\n",
      "|null_category_row|null_item_row|null_price_row|0_quantity_row|null_total_spent_row|\n",
      "+-----------------+-------------+--------------+--------------+--------------------+\n",
      "|                0|            0|             0|           604|                 604|\n",
      "+-----------------+-------------+--------------+--------------+--------------------+\n",
      "\n"
     ]
    }
   ],
   "source": [
    "#проверим насколько нам удалось востановить\n",
    "\n",
    "(\n",
    "     result_df\n",
    "    .agg(\n",
    "        F.sum(\n",
    "            F.when(\n",
    "                F.col('category').isNull(), F.lit(1)\n",
    "            ).otherwise(F.lit(0))\n",
    "        ).alias('null_category_row'),\n",
    "        F.sum(\n",
    "            F.when(\n",
    "                F.col('item').isNull(), F.lit(1)\n",
    "            ).otherwise(F.lit(0))\n",
    "        ).alias('null_item_row'),\n",
    "        F.sum(\n",
    "            F.when(\n",
    "                F.col('price_per_unit').isNull(), F.lit(1)\n",
    "            ).otherwise(F.lit(0))\n",
    "        ).alias('null_price_row'),\n",
    "        F.sum(\n",
    "            F.when(\n",
    "                F.col('quantity').isNull(), F.lit(1)\n",
    "            ).otherwise(F.lit(0))\n",
    "        ).alias('0_quantity_row'),# тут уже проверфем на Null \n",
    "        F.sum(\n",
    "            F.when(\n",
    "                F.col('total_spent').isNull(), F.lit(1)\n",
    "            ).otherwise(F.lit(0))\n",
    "        ).alias('null_total_spent_row')\n",
    "    )\n",
    ").show(10)"
   ]
  },
  {
   "cell_type": "code",
   "execution_count": 378,
   "id": "2d084c38-9441-42a7-925e-7fff15484944",
   "metadata": {
    "execution": {
     "iopub.execute_input": "2025-07-24T07:34:17.892415Z",
     "iopub.status.busy": "2025-07-24T07:34:17.892161Z",
     "iopub.status.idle": "2025-07-24T07:34:17.894667Z",
     "shell.execute_reply": "2025-07-24T07:34:17.894188Z",
     "shell.execute_reply.started": "2025-07-24T07:34:17.892394Z"
    },
    "tags": []
   },
   "outputs": [],
   "source": [
    "#было / стало сравниваем со значениями на старте - видим что уже неплохо\n",
    "#quantity - восстановить не удалось, так как везде где quantity is Null то и Total_spend Null\n",
    "\n",
    "# +-----------------+-------------+--------------+--------------+--------------------+\n",
    "# |null_category_row|null_item_row|null_price_row|0_quantity_row|null_total_spent_row|\n",
    "# +-----------------+-------------+--------------+--------------+--------------------+\n",
    "# |                0|         1213|           609|           604|                 604|\n",
    "# +-----------------+-------------+--------------+--------------+--------------------+"
   ]
  },
  {
   "cell_type": "markdown",
   "id": "ac3a3875-adbf-4a8f-828b-9faaf6741029",
   "metadata": {},
   "source": [
    "### 2.4. Удалите оставшийся строки с пропусками в Category, Quantity ,Total Spent и Price Rer Unit\n",
    "\n"
   ]
  },
  {
   "cell_type": "code",
   "execution_count": 26,
   "id": "45abfe19-0f5b-4089-998e-2a803500ee2d",
   "metadata": {
    "execution": {
     "iopub.execute_input": "2025-07-24T08:30:44.851096Z",
     "iopub.status.busy": "2025-07-24T08:30:44.850787Z",
     "iopub.status.idle": "2025-07-24T08:30:47.387492Z",
     "shell.execute_reply": "2025-07-24T08:30:47.386900Z",
     "shell.execute_reply.started": "2025-07-24T08:30:44.851072Z"
    },
    "tags": []
   },
   "outputs": [
    {
     "name": "stdout",
     "output_type": "stream",
     "text": [
      "+--------------------+-----------+----------------+------------+--------+--------------+--------+-----------+----------------+--------------+--------------+\n",
      "|            category|customer_id|discount_applied|        item|location|price_per_unit|quantity|total_spent|transaction_date|transaction_id|payment_method|\n",
      "+--------------------+-----------+----------------+------------+--------+--------------+--------+-----------+----------------+--------------+--------------+\n",
      "|          Patisserie|    CUST_09|            true| Item_10_PAT|  Online|         18.50|      10|     185.00|      2024-04-08|   TXN_6867343|Digital Wallet|\n",
      "|       Milk Products|    CUST_22|            true|Item_17_MILK|  Online|         29.00|       9|     261.00|      2023-07-23|   TXN_3731986|Digital Wallet|\n",
      "|            Butchers|    CUST_02|           false| Item_12_BUT|  Online|         21.50|       2|      43.00|      2022-10-05|   TXN_9303719|   Credit Card|\n",
      "|           Beverages|    CUST_06|            null| Item_16_BEV|  Online|         27.50|       9|     247.50|      2022-05-07|   TXN_9458126|   Credit Card|\n",
      "|                Food|    CUST_05|           false| Item_6_FOOD|  Online|         12.50|       7|      87.50|      2022-10-02|   TXN_4575373|Digital Wallet|\n",
      "|          Patisserie|    CUST_09|            null| Item_11_PAT|  Online|         20.00|      10|     200.00|      2023-11-30|   TXN_7482416|   Credit Card|\n",
      "|                Food|    CUST_07|            true| Item_1_FOOD|In-store|          5.00|       8|      40.00|      2023-06-10|   TXN_3652209|   Credit Card|\n",
      "|           Furniture|    CUST_23|           false| Item_16_FUR|In-store|         27.50|       1|      27.50|      2023-04-26|   TXN_9728486|   Credit Card|\n",
      "|            Butchers|    CUST_25|           false| Item_22_BUT|  Online|         36.50|       3|     109.50|      2024-03-14|   TXN_2722661|          Cash|\n",
      "|            Butchers|    CUST_22|            true|  Item_3_BUT|In-store|          8.00|       9|      72.00|      2024-12-14|   TXN_8776416|          Cash|\n",
      "|       Milk Products|    CUST_09|            true| Item_2_MILK|In-store|          6.50|       8|      52.00|      2025-01-12|   TXN_5422631|Digital Wallet|\n",
      "|                Food|    CUST_23|            true| Item_2_FOOD|  Online|          6.50|       7|      45.50|      2023-09-09|   TXN_5874772|          Cash|\n",
      "|          Patisserie|    CUST_14|           false| Item_24_PAT|In-store|         39.50|       6|     237.00|      2022-05-20|   TXN_4413070|Digital Wallet|\n",
      "|       Milk Products|    CUST_09|            null|Item_16_MILK|  Online|         27.50|       2|      55.00|      2022-05-22|   TXN_2490363|Digital Wallet|\n",
      "|          Patisserie|    CUST_23|            true| Item_17_PAT|  Online|         29.00|       8|     232.00|      2024-11-16|   TXN_7563311|          Cash|\n",
      "|       Milk Products|    CUST_15|            null|Item_16_MILK|  Online|         27.50|      10|     275.00|      2022-04-17|   TXN_9634894|Digital Wallet|\n",
      "|Electric househol...|    CUST_17|           false| Item_13_EHE|In-store|         23.00|       1|      23.00|      2022-02-07|   TXN_4396807|Digital Wallet|\n",
      "|           Beverages|    CUST_14|            null|  Item_7_BEV|In-store|         14.00|       9|     126.00|      2024-01-14|   TXN_9939063|Digital Wallet|\n",
      "|       Milk Products|    CUST_15|            null|Item_21_MILK|In-store|         35.00|       3|     105.00|      2023-10-29|   TXN_8685338|   Credit Card|\n",
      "|Electric househol...|    CUST_10|            null|  Item_4_EHE|In-store|          9.50|       7|      66.50|      2022-08-15|   TXN_6547964|          Cash|\n",
      "+--------------------+-----------+----------------+------------+--------+--------------+--------+-----------+----------------+--------------+--------------+\n",
      "only showing top 20 rows\n",
      "\n"
     ]
    }
   ],
   "source": [
    "result_df =(\n",
    "    result_df\n",
    "    .filter(F.col('total_spent').isNotNull())\n",
    "    .filter(F.col('quantity').isNotNull())\n",
    "    .filter(F.col('price_per_unit').isNotNull())\n",
    ")\n",
    "result_df.show(20)\n",
    "\n",
    "    "
   ]
  },
  {
   "cell_type": "markdown",
   "id": "20008f37-e61b-4887-8902-24ad851b6d39",
   "metadata": {
    "tags": []
   },
   "source": [
    "## 3. Разведочный анализ данных"
   ]
  },
  {
   "cell_type": "markdown",
   "id": "2c41cd36-4609-4943-94a3-cc2f13b35fc8",
   "metadata": {
    "tags": []
   },
   "source": [
    "### 3.1. Самые популярные категории товаров"
   ]
  },
  {
   "cell_type": "code",
   "execution_count": 27,
   "id": "ac8ed472-ee32-436f-93d3-259cd1eb70ad",
   "metadata": {
    "execution": {
     "iopub.execute_input": "2025-07-24T08:30:52.040432Z",
     "iopub.status.busy": "2025-07-24T08:30:52.040100Z",
     "iopub.status.idle": "2025-07-24T08:30:58.847684Z",
     "shell.execute_reply": "2025-07-24T08:30:58.847067Z",
     "shell.execute_reply.started": "2025-07-24T08:30:52.040407Z"
    },
    "tags": []
   },
   "outputs": [
    {
     "name": "stdout",
     "output_type": "stream",
     "text": [
      "+----------------------------------+----+\n",
      "|category                          |cnt |\n",
      "+----------------------------------+----+\n",
      "|Furniture                         |8462|\n",
      "|Food                              |8387|\n",
      "|Beverages                         |8358|\n",
      "|Milk Products                     |8339|\n",
      "|Electric household essentials     |8309|\n",
      "|Computers and electric accessories|8272|\n",
      "|Butchers                          |8206|\n",
      "|Patisserie                        |7943|\n",
      "+----------------------------------+----+\n",
      "\n"
     ]
    }
   ],
   "source": [
    "# Рассчитайте общее количество проданных единиц товара  для каждой категории.\n",
    "\n",
    "(\n",
    "    result_df\n",
    "    .groupBy('category')\n",
    "    .agg(\n",
    "        F.sum('quantity').alias('cnt')\n",
    "    )\n",
    "    .orderBy(F.desc('cnt'))\n",
    "    \n",
    ").show(10, False)"
   ]
  },
  {
   "cell_type": "code",
   "execution_count": 28,
   "id": "d09b1358-094d-4911-84d2-fab04b187ba5",
   "metadata": {
    "execution": {
     "iopub.execute_input": "2025-07-24T08:31:04.793502Z",
     "iopub.status.busy": "2025-07-24T08:31:04.793183Z",
     "iopub.status.idle": "2025-07-24T08:31:08.548991Z",
     "shell.execute_reply": "2025-07-24T08:31:08.548409Z",
     "shell.execute_reply.started": "2025-07-24T08:31:04.793474Z"
    },
    "tags": []
   },
   "outputs": [
    {
     "name": "stdout",
     "output_type": "stream",
     "text": [
      "+-----------------------------+----+\n",
      "|category                     |cnt |\n",
      "+-----------------------------+----+\n",
      "|Furniture                    |8462|\n",
      "|Food                         |8387|\n",
      "|Beverages                    |8358|\n",
      "|Milk Products                |8339|\n",
      "|Electric household essentials|8309|\n",
      "+-----------------------------+----+\n",
      "only showing top 5 rows\n",
      "\n"
     ]
    }
   ],
   "source": [
    "#Определите Топ-5 категорий по общему количеству проданных единиц. \n",
    "\n",
    "(\n",
    "    result_df\n",
    "    .groupBy('category')\n",
    "    .agg(\n",
    "        F.sum('quantity').alias('cnt')\n",
    "    )\n",
    "    .orderBy(F.desc('cnt'))\n",
    "    \n",
    ").show(5, False)"
   ]
  },
  {
   "cell_type": "markdown",
   "id": "faf7e45f-b902-4c7f-8e1c-33d615b43bf2",
   "metadata": {},
   "source": [
    "### 3.2. Анализ среднего чека: "
   ]
  },
  {
   "cell_type": "code",
   "execution_count": 29,
   "id": "b7a45bb1-ed27-4c5b-98a6-8b589c78b837",
   "metadata": {
    "execution": {
     "iopub.execute_input": "2025-07-24T08:32:01.172746Z",
     "iopub.status.busy": "2025-07-24T08:32:01.172420Z",
     "iopub.status.idle": "2025-07-24T08:32:03.707582Z",
     "shell.execute_reply": "2025-07-24T08:32:03.706900Z",
     "shell.execute_reply.started": "2025-07-24T08:32:01.172718Z"
    },
    "tags": []
   },
   "outputs": [
    {
     "name": "stdout",
     "output_type": "stream",
     "text": [
      "+--------------+---------------+\n",
      "|payment_method|avg_total_spent|\n",
      "+--------------+---------------+\n",
      "|Cash          |131.05         |\n",
      "|Credit Card   |129.13         |\n",
      "|Digital Wallet|128.72         |\n",
      "+--------------+---------------+\n",
      "\n"
     ]
    }
   ],
   "source": [
    "#Рассчитайте среднее значение Total Spent для каждого метода оплаты. Округлите до двух знаков после запятой.\n",
    "# Тут возможно надо переписать - так как по условию - это не средний чек, он обычно считается на заказ/пользователя\n",
    "\n",
    "(\n",
    "    result_df\n",
    "    .groupBy('payment_method')\n",
    "    .agg(\n",
    "        F.round(F.avg('total_spent'),2).alias('avg_total_spent')\n",
    "    )\n",
    "    .orderBy(F.desc('avg_total_spent'))\n",
    "    \n",
    ").show(5, False)\n"
   ]
  },
  {
   "cell_type": "code",
   "execution_count": 30,
   "id": "8b318369-4b87-493a-8656-004c0a4127e3",
   "metadata": {
    "execution": {
     "iopub.execute_input": "2025-07-24T08:32:08.381627Z",
     "iopub.status.busy": "2025-07-24T08:32:08.381260Z",
     "iopub.status.idle": "2025-07-24T08:32:11.390794Z",
     "shell.execute_reply": "2025-07-24T08:32:11.390204Z",
     "shell.execute_reply.started": "2025-07-24T08:32:08.381597Z"
    },
    "tags": []
   },
   "outputs": [
    {
     "name": "stdout",
     "output_type": "stream",
     "text": [
      "+--------+---------------+\n",
      "|location|avg_total_spent|\n",
      "+--------+---------------+\n",
      "|Online  |130.42         |\n",
      "|In-store|128.86         |\n",
      "+--------+---------------+\n",
      "\n"
     ]
    }
   ],
   "source": [
    "#Рассчитайте среднее значение Total Spent для каждой места где прошла оплата. Округлите до двух знаков после запятой.\n",
    "\n",
    "(\n",
    "    result_df\n",
    "    .groupBy('location')\n",
    "    .agg(\n",
    "        F.round(F.avg('total_spent'),2).alias('avg_total_spent')\n",
    "    )\n",
    "    .orderBy(F.desc('avg_total_spent'))\n",
    "    \n",
    ").show(5, False)\n",
    "\n"
   ]
  },
  {
   "cell_type": "markdown",
   "id": "5ff78ec1-7658-47e9-9d52-29e900e515b0",
   "metadata": {},
   "source": [
    "## 4. Генерация признаков "
   ]
  },
  {
   "cell_type": "markdown",
   "id": "458f8037-4fca-4059-9117-f2f706c3e3e0",
   "metadata": {},
   "source": [
    "### 4.1. Временные признаки\n",
    "\n"
   ]
  },
  {
   "cell_type": "code",
   "execution_count": 31,
   "id": "8b510ed1-4cfd-4858-bd45-2cf4f6ca5a18",
   "metadata": {
    "execution": {
     "iopub.execute_input": "2025-07-24T08:32:13.375568Z",
     "iopub.status.busy": "2025-07-24T08:32:13.375255Z",
     "iopub.status.idle": "2025-07-24T08:32:14.803914Z",
     "shell.execute_reply": "2025-07-24T08:32:14.803319Z",
     "shell.execute_reply.started": "2025-07-24T08:32:13.375540Z"
    },
    "tags": []
   },
   "outputs": [
    {
     "name": "stdout",
     "output_type": "stream",
     "text": [
      "-RECORD 0--------------------------------\n",
      " category               | Patisserie     \n",
      " customer_id            | CUST_09        \n",
      " discount_applied       | true           \n",
      " item                   | Item_10_PAT    \n",
      " location               | Online         \n",
      " price_per_unit         | 18.50          \n",
      " quantity               | 10             \n",
      " total_spent            | 185.00         \n",
      " transaction_date       | 2024-04-08     \n",
      " transaction_id         | TXN_6867343    \n",
      " payment_method         | Digital Wallet \n",
      " day_of_week            | Mon            \n",
      " day_of_week_num        | 1              \n",
      " transaction_month_name | April          \n",
      " transaction_month      | 4              \n",
      "only showing top 1 row\n",
      "\n"
     ]
    }
   ],
   "source": [
    "#Добавьте два новых столбца на основе Transaction Date:day_of_week, transaction_month\n",
    "# Текст или число - не оговаривается, заложим оба варианта\n",
    "# добавим вспомгательную колонку day_of_week_num для сортировки и сделаем так чтобы неделя была с понедельника\n",
    "\n",
    "result_df_w_ds = (\n",
    "    \n",
    "    result_df\n",
    "    .withColumn(\"day_of_week\", F.date_format(F.col(\"transaction_date\"), \"E\"))\n",
    "    .withColumn(\"day_of_week_num\", ((F.dayofweek(F.col(\"transaction_date\")) + 5) % 7 + 1))\n",
    "    .withColumn(\"transaction_month_name\", F.date_format(F.col(\"transaction_date\"), \"MMMM\"))\n",
    "    .withColumn(\"transaction_month\", F.month(F.col(\"transaction_date\")))\n",
    "    \n",
    ")\n",
    "result_df_w_ds.show(1,False,True)"
   ]
  },
  {
   "cell_type": "markdown",
   "id": "26d97f64-2074-4b93-8004-9c815068e2f8",
   "metadata": {},
   "source": [
    "### 4.2. Продажи по дням недели"
   ]
  },
  {
   "cell_type": "code",
   "execution_count": 32,
   "id": "878e32b1-38c1-4e0c-8e11-4d71cf262296",
   "metadata": {
    "execution": {
     "iopub.execute_input": "2025-07-24T08:32:24.877342Z",
     "iopub.status.busy": "2025-07-24T08:32:24.877034Z",
     "iopub.status.idle": "2025-07-24T08:32:27.872448Z",
     "shell.execute_reply": "2025-07-24T08:32:27.871349Z",
     "shell.execute_reply.started": "2025-07-24T08:32:24.877316Z"
    },
    "tags": []
   },
   "outputs": [
    {
     "name": "stdout",
     "output_type": "stream",
     "text": [
      "+-----------+-----------+\n",
      "|day_of_week|total_spent|\n",
      "+-----------+-----------+\n",
      "|Mon        |213090.50  |\n",
      "|Tue        |219650.00  |\n",
      "|Wed        |216982.00  |\n",
      "|Thu        |219380.50  |\n",
      "|Fri        |232786.00  |\n",
      "|Sat        |224191.00  |\n",
      "|Sun        |225991.00  |\n",
      "+-----------+-----------+\n",
      "\n"
     ]
    }
   ],
   "source": [
    "#Рассчитайте среднюю сумму продаж (Total Spent) для каждого дня недели. Выведите результаты, отсортированные по дням недели.\n",
    "\n",
    "(\n",
    "    result_df_w_ds\n",
    "    .groupBy('day_of_week', 'day_of_week_num')\n",
    "    .agg(\n",
    "        F.sum('total_spent').alias('total_spent')\n",
    "    )\n",
    "    .orderBy(F.asc('day_of_week_num'))\n",
    "    .drop('day_of_week_num')\n",
    "    \n",
    ").show(10, False)\n"
   ]
  },
  {
   "cell_type": "markdown",
   "id": "1f9bf488-c66d-4f86-9941-a025295bd2c4",
   "metadata": {},
   "source": [
    "### 4.3.Продажи по месяцам"
   ]
  },
  {
   "cell_type": "code",
   "execution_count": 33,
   "id": "e3d5b87a-0c2d-4f8e-9f68-c2ffa79a0f1f",
   "metadata": {
    "execution": {
     "iopub.execute_input": "2025-07-24T08:32:29.989310Z",
     "iopub.status.busy": "2025-07-24T08:32:29.989037Z",
     "iopub.status.idle": "2025-07-24T08:32:32.661309Z",
     "shell.execute_reply": "2025-07-24T08:32:32.660718Z",
     "shell.execute_reply.started": "2025-07-24T08:32:29.989285Z"
    },
    "tags": []
   },
   "outputs": [
    {
     "name": "stdout",
     "output_type": "stream",
     "text": [
      "+----------------------+-----------+\n",
      "|transaction_month_name|total_spent|\n",
      "+----------------------+-----------+\n",
      "|January               |174421.00  |\n",
      "|February              |119685.00  |\n",
      "|March                 |122392.00  |\n",
      "|April                 |125618.50  |\n",
      "|May                   |124594.50  |\n",
      "|June                  |129771.00  |\n",
      "|July                  |131509.00  |\n",
      "|August                |123287.50  |\n",
      "|September             |129344.00  |\n",
      "|October               |119413.50  |\n",
      "|November              |122346.50  |\n",
      "|December              |129688.50  |\n",
      "+----------------------+-----------+\n",
      "\n"
     ]
    }
   ],
   "source": [
    "# Рассчитайте среднюю сумму продаж (Total Spent)  для каждого месяца. Выведите результаты, отсортированные по месяцам.\n",
    "(\n",
    "    result_df_w_ds\n",
    "    .groupBy('transaction_month_name', 'transaction_month')\n",
    "    .agg(\n",
    "        F.sum('total_spent').alias('total_spent')\n",
    "    )\n",
    "    .orderBy(F.asc('transaction_month'))\n",
    "    .drop('transaction_month')\n",
    "    \n",
    ").show(12, False)\n"
   ]
  },
  {
   "cell_type": "markdown",
   "id": "8eeab049-a838-4629-b8d4-687d309c267e",
   "metadata": {
    "execution": {
     "iopub.execute_input": "2025-07-24T08:21:43.169730Z",
     "iopub.status.busy": "2025-07-24T08:21:43.169469Z",
     "iopub.status.idle": "2025-07-24T08:21:43.172319Z",
     "shell.execute_reply": "2025-07-24T08:21:43.171692Z",
     "shell.execute_reply.started": "2025-07-24T08:21:43.169709Z"
    },
    "tags": []
   },
   "source": [
    "### 4.4. Признаки клиента"
   ]
  },
  {
   "cell_type": "markdown",
   "id": "766d0acf-9cf2-40ab-ab47-5feb2f2b6046",
   "metadata": {
    "execution": {
     "iopub.execute_input": "2025-07-24T08:22:00.893925Z",
     "iopub.status.busy": "2025-07-24T08:22:00.893666Z",
     "iopub.status.idle": "2025-07-24T08:22:00.897967Z",
     "shell.execute_reply": "2025-07-24T08:22:00.897171Z",
     "shell.execute_reply.started": "2025-07-24T08:22:00.893905Z"
    },
    "tags": []
   },
   "source": [
    "Рассчитайте customer_lifetime_value (CLV) для каждого клиента как общую сумму (Total Spent), потраченную этим клиентом за все транзакции. Выведите Топ-10 клиентов по их CLV (customer_id и их CLV). "
   ]
  },
  {
   "cell_type": "code",
   "execution_count": 34,
   "id": "10403c91-320b-4e7c-9593-e2eb8542a098",
   "metadata": {
    "execution": {
     "iopub.execute_input": "2025-07-24T08:32:36.739633Z",
     "iopub.status.busy": "2025-07-24T08:32:36.739137Z",
     "iopub.status.idle": "2025-07-24T08:32:43.657190Z",
     "shell.execute_reply": "2025-07-24T08:32:43.656552Z",
     "shell.execute_reply.started": "2025-07-24T08:32:36.739588Z"
    },
    "tags": []
   },
   "outputs": [
    {
     "name": "stdout",
     "output_type": "stream",
     "text": [
      "+-----------+--------+\n",
      "|customer_id|     clv|\n",
      "+-----------+--------+\n",
      "|    CUST_24|68452.00|\n",
      "|    CUST_08|67351.50|\n",
      "|    CUST_05|66974.50|\n",
      "|    CUST_16|65570.50|\n",
      "|    CUST_13|65037.00|\n",
      "|    CUST_23|64507.00|\n",
      "|    CUST_10|63155.50|\n",
      "|    CUST_15|63117.50|\n",
      "|    CUST_21|62933.00|\n",
      "|    CUST_02|62046.50|\n",
      "+-----------+--------+\n",
      "\n"
     ]
    }
   ],
   "source": [
    "(\n",
    "    result_df_w_ds\n",
    "    .groupBy('customer_id')\n",
    "    .agg(\n",
    "        F.sum('total_spent').alias('clv')\n",
    "    )\n",
    "    .orderBy(F.desc('clv'))\n",
    "    .limit(10)\n",
    "    \n",
    ").show()"
   ]
  },
  {
   "cell_type": "code",
   "execution_count": null,
   "id": "380e04ea-9736-4538-b3a5-c5f4c9d654a2",
   "metadata": {},
   "outputs": [],
   "source": [
    "# всем спасибо\n",
    "\n",
    "spark.stop()"
   ]
  }
 ],
 "metadata": {
  "kernelspec": {
   "display_name": "Python 3",
   "language": "python",
   "name": "python3"
  },
  "language_info": {
   "codemirror_mode": {
    "name": "ipython",
    "version": 3
   },
   "file_extension": ".py",
   "mimetype": "text/x-python",
   "name": "python",
   "nbconvert_exporter": "python",
   "pygments_lexer": "ipython3",
   "version": "3.8.5"
  }
 },
 "nbformat": 4,
 "nbformat_minor": 5
}
