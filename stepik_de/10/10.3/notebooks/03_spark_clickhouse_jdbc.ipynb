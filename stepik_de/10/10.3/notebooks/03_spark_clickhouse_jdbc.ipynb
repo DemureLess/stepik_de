{
 "cells": [
  {
   "cell_type": "markdown",
   "metadata": {},
   "source": [
    "# Подключение к ClickHouse через Spark JDBC\n",
    "\n",
    "Используем Spark JDBC коннектор для чтения из ClickHouse.\n",
    "\n",
    "Параметры:\n",
    "- Spark master: `spark://spark:7077`\n",
    "- ClickHouse JDBC URL: `jdbc:clickhouse://clickhouse:8123/default`\n",
    "- user/password: `user / strongpassword`\n",
    "\n",
    "Требуется пакет JDBC драйвера `clickhouse-jdbc`.\n"
   ]
  },
  {
   "cell_type": "code",
   "execution_count": null,
   "metadata": {},
   "outputs": [],
   "source": [
    "!pip -q install pyspark clickhouse-driver\n",
    "\n",
    "from pyspark.sql import SparkSession\n",
    "\n",
    "SPARK_MASTER = \"spark://spark:7077\"\n",
    "CLICKHOUSE_JDBC_URL = \"jdbc:clickhouse://clickhouse:8123/default\"\n",
    "CLICKHOUSE_USER = \"user\"\n",
    "CLICKHOUSE_PASSWORD = \"strongpassword\"\n",
    "JDBC_DRIVER = \"com.clickhouse.jdbc.ClickHouseDriver\"\n",
    "\n",
    "PACKAGES = \"com.clickhouse:clickhouse-jdbc:0.6.0\"\n",
    "\n",
    "spark = (\n",
    "    SparkSession.builder.appName(\"notebook-spark-clickhouse\")\n",
    "    .master(SPARK_MASTER)\n",
    "    .config(\"spark.jars.packages\", PACKAGES)\n",
    "    .getOrCreate()\n",
    ")\n",
    "\n",
    "# Пример чтения таблицы через JDBC\n",
    "properties = {\n",
    "    \"driver\": JDBC_DRIVER,\n",
    "    \"user\": CLICKHOUSE_USER,\n",
    "    \"password\": CLICKHOUSE_PASSWORD,\n",
    "}\n",
    "\n",
    "df = spark.read.jdbc(\n",
    "    url=CLICKHOUSE_JDBC_URL, table=\"purchases_data\", properties=properties\n",
    ")\n",
    "print(df.count())\n",
    "df.show(1,False,True)\n",
    "\n",
    "spark.stop()\n"
   ]
  }
 ],
 "metadata": {
  "kernelspec": {
   "display_name": "Python 3 (ipykernel)",
   "language": "python",
   "name": "python3"
  },
  "language_info": {
   "codemirror_mode": {
    "name": "ipython",
    "version": 3
   },
   "file_extension": ".py",
   "mimetype": "text/x-python",
   "name": "python",
   "nbconvert_exporter": "python",
   "pygments_lexer": "ipython3",
   "version": "3.11.6"
  }
 },
 "nbformat": 4,
 "nbformat_minor": 4
}
